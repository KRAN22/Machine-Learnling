{
 "cells": [
  {
   "cell_type": "code",
   "execution_count": 3,
   "id": "5e2fc942",
   "metadata": {},
   "outputs": [],
   "source": [
    "import pandas as pd\n",
    "import numpy as np\n",
    "from pandas import DataFrame"
   ]
  },
  {
   "cell_type": "code",
   "execution_count": 8,
   "id": "9a24cfa1",
   "metadata": {},
   "outputs": [
    {
     "data": {
      "text/plain": [
       "array([7.76421423e-312, 5.43966276e-321, 0.00000000e+000, 7.74528464e-312,\n",
       "       7.76421423e-312])"
      ]
     },
     "execution_count": 8,
     "metadata": {},
     "output_type": "execute_result"
    }
   ],
   "source": [
    "np.empty(5)"
   ]
  },
  {
   "cell_type": "code",
   "execution_count": 11,
   "id": "5e69d648",
   "metadata": {},
   "outputs": [],
   "source": [
    "b = np.random.random((3,3))\n",
    "c = np.random.random((3,3))"
   ]
  },
  {
   "cell_type": "code",
   "execution_count": 20,
   "id": "e87acf5a",
   "metadata": {},
   "outputs": [
    {
     "data": {
      "text/plain": [
       "array([[0.82888403, 2.40251166, 2.57765299],\n",
       "       [1.6452565 , 1.76490521, 0.39339438],\n",
       "       [2.28284744, 1.16539394, 0.97391684]])"
      ]
     },
     "execution_count": 20,
     "metadata": {},
     "output_type": "execute_result"
    }
   ],
   "source": [
    "b+=c\n",
    "b"
   ]
  },
  {
   "cell_type": "code",
   "execution_count": 23,
   "id": "65ef6884",
   "metadata": {},
   "outputs": [
    {
     "data": {
      "text/plain": [
       "array([1., 1.])"
      ]
     },
     "execution_count": 23,
     "metadata": {},
     "output_type": "execute_result"
    }
   ],
   "source": [
    "a = np.ones(2)\n",
    "a"
   ]
  },
  {
   "cell_type": "code",
   "execution_count": 24,
   "id": "302ea40b",
   "metadata": {},
   "outputs": [
    {
     "data": {
      "text/plain": [
       "array([[1., 0., 0., 0.],\n",
       "       [0., 1., 0., 0.],\n",
       "       [0., 0., 1., 0.],\n",
       "       [0., 0., 0., 1.]])"
      ]
     },
     "execution_count": 24,
     "metadata": {},
     "output_type": "execute_result"
    }
   ],
   "source": [
    "np.eye(4)"
   ]
  },
  {
   "cell_type": "code",
   "execution_count": 26,
   "id": "fbb44ee8",
   "metadata": {},
   "outputs": [
    {
     "data": {
      "text/plain": [
       "array([7.76393019e-312, 7.76402404e-312, 7.76402404e-312, 7.76421422e-312,\n",
       "       5.98189404e-154])"
      ]
     },
     "execution_count": 26,
     "metadata": {},
     "output_type": "execute_result"
    }
   ],
   "source": [
    "e = np.empty(5)\n",
    "e"
   ]
  },
  {
   "cell_type": "code",
   "execution_count": 47,
   "id": "39147953",
   "metadata": {},
   "outputs": [
    {
     "data": {
      "text/plain": [
       "array([ 12,  34,  56, 678,   8,  99,  44, 455,  45,  12])"
      ]
     },
     "execution_count": 47,
     "metadata": {},
     "output_type": "execute_result"
    }
   ],
   "source": [
    "ls = [12,34,56,678,8,99,44,455,45,12]\n",
    "arr = np.array(ls)\n",
    "arr"
   ]
  },
  {
   "cell_type": "code",
   "execution_count": 48,
   "id": "467aaa86",
   "metadata": {},
   "outputs": [
    {
     "name": "stdout",
     "output_type": "stream",
     "text": [
      "678\n"
     ]
    }
   ],
   "source": [
    "arr.shape\n",
    "arr[2:5]\n",
    "print(arr[3])\n",
    "arr[1:3] = 44"
   ]
  },
  {
   "cell_type": "code",
   "execution_count": 49,
   "id": "453bffc0",
   "metadata": {},
   "outputs": [],
   "source": [
    "arr_slice = arr[3:8]"
   ]
  },
  {
   "cell_type": "code",
   "execution_count": 50,
   "id": "0962d65c",
   "metadata": {},
   "outputs": [
    {
     "data": {
      "text/plain": [
       "array([678,   8,  99,  44, 455])"
      ]
     },
     "execution_count": 50,
     "metadata": {},
     "output_type": "execute_result"
    }
   ],
   "source": [
    "arr_slice"
   ]
  },
  {
   "cell_type": "code",
   "execution_count": 51,
   "id": "0ccb2244",
   "metadata": {},
   "outputs": [
    {
     "name": "stdout",
     "output_type": "stream",
     "text": [
      "[  8  99  44 455]\n",
      "[678   8  99  44 455]\n"
     ]
    }
   ],
   "source": [
    "print(arr_slice[1:])\n",
    "print(arr_slice[:])"
   ]
  },
  {
   "cell_type": "code",
   "execution_count": 52,
   "id": "48f1aef5",
   "metadata": {},
   "outputs": [],
   "source": [
    "arr_slice[:] = -1"
   ]
  },
  {
   "cell_type": "code",
   "execution_count": 54,
   "id": "2868f3b7",
   "metadata": {},
   "outputs": [
    {
     "name": "stdout",
     "output_type": "stream",
     "text": [
      "[12 44 44 -1 -1 -1 -1 -1 45 12]\n"
     ]
    }
   ],
   "source": [
    "arr_slice\n",
    "print(arr)"
   ]
  },
  {
   "cell_type": "code",
   "execution_count": 55,
   "id": "e09d36ef",
   "metadata": {},
   "outputs": [],
   "source": [
    "arr2 = arr.copy()"
   ]
  },
  {
   "cell_type": "code",
   "execution_count": 57,
   "id": "f7344e1b",
   "metadata": {},
   "outputs": [],
   "source": [
    "arr2[3] = 55"
   ]
  },
  {
   "cell_type": "code",
   "execution_count": 58,
   "id": "898c4859",
   "metadata": {},
   "outputs": [
    {
     "data": {
      "text/plain": [
       "array([12, 44, 44, 55, -1, -1, -1, -1, 45, 12])"
      ]
     },
     "execution_count": 58,
     "metadata": {},
     "output_type": "execute_result"
    }
   ],
   "source": [
    "arr2"
   ]
  },
  {
   "cell_type": "markdown",
   "id": "e7706c62",
   "metadata": {},
   "source": [
    "# Array - Function"
   ]
  },
  {
   "cell_type": "code",
   "execution_count": 66,
   "id": "1a7d84a1",
   "metadata": {},
   "outputs": [
    {
     "name": "stdout",
     "output_type": "stream",
     "text": [
      "[ 0.29725228 -0.81285141  0.0068132   0.70021535  0.56670704  1.2039272\n",
      "  0.03540596  1.46133816 -0.28860766 -0.46003106  0.50207614  0.69604568]\n",
      "[ 1.00305179 -0.30106433  0.28954964  0.35021536  0.79097365  0.94826784\n",
      " -0.81329287 -1.06441003  1.03018264  1.66885985  0.73301471  0.51660033]\n"
     ]
    }
   ],
   "source": [
    "arr1 = np.random.randn(12)\n",
    "arr2 = np.random.randn(12)\n",
    "print(arr1)\n",
    "print(arr2)"
   ]
  },
  {
   "cell_type": "code",
   "execution_count": 67,
   "id": "b4d3e4e2",
   "metadata": {},
   "outputs": [
    {
     "data": {
      "text/plain": [
       "array([ 1.30030407, -1.11391574,  0.29636284,  1.05043071,  1.35768069,\n",
       "        2.15219503, -0.77788691,  0.39692814,  0.74157498,  1.20882879,\n",
       "        1.23509085,  1.21264601])"
      ]
     },
     "execution_count": 67,
     "metadata": {},
     "output_type": "execute_result"
    }
   ],
   "source": [
    "np.add(arr1,arr2)"
   ]
  },
  {
   "cell_type": "code",
   "execution_count": 69,
   "id": "f0ab7bd0",
   "metadata": {},
   "outputs": [
    {
     "data": {
      "text/plain": [
       "array([ 0.29725228, -0.81285141,  0.0068132 ,  0.35021536,  0.56670704,\n",
       "        0.94826784, -0.81329287, -1.06441003, -0.28860766, -0.46003106,\n",
       "        0.50207614,  0.51660033])"
      ]
     },
     "execution_count": 69,
     "metadata": {},
     "output_type": "execute_result"
    }
   ],
   "source": [
    "np.minimum(arr1,arr2)"
   ]
  },
  {
   "cell_type": "markdown",
   "id": "4a2aa347",
   "metadata": {},
   "source": [
    "# Array Transpose"
   ]
  },
  {
   "cell_type": "code",
   "execution_count": 74,
   "id": "53d6ec26",
   "metadata": {},
   "outputs": [],
   "source": [
    "arr = np.arange(60).reshape(6,5,2)"
   ]
  },
  {
   "cell_type": "code",
   "execution_count": 79,
   "id": "f7f275c1",
   "metadata": {},
   "outputs": [
    {
     "data": {
      "text/plain": [
       "array([[[ 0,  1],\n",
       "        [ 2,  3],\n",
       "        [ 4,  5],\n",
       "        [ 6,  7],\n",
       "        [ 8,  9]],\n",
       "\n",
       "       [[10, 11],\n",
       "        [12, 13],\n",
       "        [14, 15],\n",
       "        [16, 17],\n",
       "        [18, 19]],\n",
       "\n",
       "       [[20, 21],\n",
       "        [22, 23],\n",
       "        [24, 25],\n",
       "        [26, 27],\n",
       "        [28, 29]],\n",
       "\n",
       "       [[30, 31],\n",
       "        [32, 33],\n",
       "        [34, 35],\n",
       "        [36, 37],\n",
       "        [38, 39]],\n",
       "\n",
       "       [[40, 41],\n",
       "        [42, 43],\n",
       "        [44, 45],\n",
       "        [46, 47],\n",
       "        [48, 49]],\n",
       "\n",
       "       [[50, 51],\n",
       "        [52, 53],\n",
       "        [54, 55],\n",
       "        [56, 57],\n",
       "        [58, 59]]])"
      ]
     },
     "execution_count": 79,
     "metadata": {},
     "output_type": "execute_result"
    }
   ],
   "source": [
    "arr"
   ]
  },
  {
   "cell_type": "code",
   "execution_count": 80,
   "id": "09f747e3",
   "metadata": {},
   "outputs": [
    {
     "data": {
      "text/plain": [
       "array([[[ 0, 10, 20, 30, 40, 50],\n",
       "        [ 2, 12, 22, 32, 42, 52],\n",
       "        [ 4, 14, 24, 34, 44, 54],\n",
       "        [ 6, 16, 26, 36, 46, 56],\n",
       "        [ 8, 18, 28, 38, 48, 58]],\n",
       "\n",
       "       [[ 1, 11, 21, 31, 41, 51],\n",
       "        [ 3, 13, 23, 33, 43, 53],\n",
       "        [ 5, 15, 25, 35, 45, 55],\n",
       "        [ 7, 17, 27, 37, 47, 57],\n",
       "        [ 9, 19, 29, 39, 49, 59]]])"
      ]
     },
     "execution_count": 80,
     "metadata": {},
     "output_type": "execute_result"
    }
   ],
   "source": [
    "arr.transpose()"
   ]
  },
  {
   "cell_type": "markdown",
   "id": "131bc518",
   "metadata": {},
   "source": [
    "# simple_stars"
   ]
  },
  {
   "cell_type": "code",
   "execution_count": 81,
   "id": "381eb10f",
   "metadata": {},
   "outputs": [
    {
     "data": {
      "text/plain": [
       "array([[ 0.02473463, -2.04613324, -1.18635557, -0.74955162],\n",
       "       [-0.56488451, -0.85373401, -0.48122825, -0.31404661],\n",
       "       [-1.88885738, -0.85624197,  1.43601323,  2.20250999],\n",
       "       [-0.05922236,  0.49338999, -1.40037582,  1.23356467]])"
      ]
     },
     "execution_count": 81,
     "metadata": {},
     "output_type": "execute_result"
    }
   ],
   "source": [
    "arr = np.random.randn(4,4)\n",
    "arr"
   ]
  },
  {
   "cell_type": "code",
   "execution_count": 84,
   "id": "cbbca118",
   "metadata": {},
   "outputs": [
    {
     "data": {
      "text/plain": [
       "1.3068422384047433"
      ]
     },
     "execution_count": 84,
     "metadata": {},
     "output_type": "execute_result"
    }
   ],
   "source": [
    "arr.var()"
   ]
  },
  {
   "cell_type": "code",
   "execution_count": 87,
   "id": "31267dc9",
   "metadata": {},
   "outputs": [
    {
     "data": {
      "text/plain": [
       "array([[0.02473463, 0.        , 0.        , 0.        ],\n",
       "       [0.        , 0.        , 0.        , 0.        ],\n",
       "       [0.        , 0.        , 1.43601323, 2.20250999],\n",
       "       [0.        , 0.49338999, 0.        , 1.23356467]])"
      ]
     },
     "execution_count": 87,
     "metadata": {},
     "output_type": "execute_result"
    }
   ],
   "source": [
    "np.where(arr<0,0,arr)"
   ]
  },
  {
   "cell_type": "code",
   "execution_count": 89,
   "id": "cd4e992b",
   "metadata": {},
   "outputs": [
    {
     "data": {
      "text/plain": [
       "array([[-2.04613324, -1.18635557, -0.74955162,  0.02473463],\n",
       "       [-0.85373401, -0.56488451, -0.48122825, -0.31404661],\n",
       "       [-1.88885738, -0.85624197,  1.43601323,  2.20250999],\n",
       "       [-1.40037582, -0.05922236,  0.49338999,  1.23356467]])"
      ]
     },
     "execution_count": 89,
     "metadata": {},
     "output_type": "execute_result"
    }
   ],
   "source": [
    "arr.sort()\n",
    "arr"
   ]
  },
  {
   "cell_type": "code",
   "execution_count": 94,
   "id": "b89903dc",
   "metadata": {},
   "outputs": [
    {
     "data": {
      "text/plain": [
       "array([ 1,  2,  3,  4,  5,  6,  7,  8,  9, 10, 11, 12])"
      ]
     },
     "execution_count": 94,
     "metadata": {},
     "output_type": "execute_result"
    }
   ],
   "source": [
    "a1 = np.array([[1,2,3],\n",
    "               [4,5,6]])\n",
    "\n",
    "a2 = np.array([[7,8,9],\n",
    "               [10,11,12]])\n",
    "\n",
    "o = np.append(a1,a2)\n",
    "o"
   ]
  },
  {
   "cell_type": "code",
   "execution_count": 95,
   "id": "663aa189",
   "metadata": {},
   "outputs": [
    {
     "name": "stdout",
     "output_type": "stream",
     "text": [
      "(array([0, 3, 4], dtype=int64),)\n"
     ]
    }
   ],
   "source": [
    "a = np.array([1,2,3,4,5])\n",
    "\n",
    "b = np.array([1,3,2,4,5])\n",
    "\n",
    "print(np.where(a == b))"
   ]
  },
  {
   "cell_type": "code",
   "execution_count": 97,
   "id": "8c765797",
   "metadata": {},
   "outputs": [
    {
     "name": "stdout",
     "output_type": "stream",
     "text": [
      "[[1 2 3 1 2 3 1 2 3 1 2 3 1 2 3 1 2 3 1 2 3 1 2 3 1 2 3 1 2 3]\n",
      " [4 5 6 4 5 6 4 5 6 4 5 6 4 5 6 4 5 6 4 5 6 4 5 6 4 5 6 4 5 6]]\n"
     ]
    }
   ],
   "source": [
    "a = np.array([[1,2,3],\n",
    "              [4,5,6]])\n",
    "\n",
    "o = np.tile(a, 10)\n",
    "\n",
    "print(o)"
   ]
  },
  {
   "cell_type": "code",
   "execution_count": 100,
   "id": "57a17bb5",
   "metadata": {},
   "outputs": [],
   "source": [
    "np.random.seed(123)"
   ]
  },
  {
   "cell_type": "code",
   "execution_count": 111,
   "id": "d5367840",
   "metadata": {},
   "outputs": [
    {
     "data": {
      "text/plain": [
       "array([[8, 9, 1, 0, 3],\n",
       "       [1, 3, 4, 7, 6],\n",
       "       [1, 4, 3, 3, 7],\n",
       "       [6, 8, 6, 4, 4],\n",
       "       [7, 0, 0, 9, 8]])"
      ]
     },
     "execution_count": 111,
     "metadata": {},
     "output_type": "execute_result"
    }
   ],
   "source": [
    "a = np.random.randint(0,10,size=(5,5))\n",
    "a"
   ]
  },
  {
   "cell_type": "code",
   "execution_count": 112,
   "id": "a2e5232d",
   "metadata": {},
   "outputs": [
    {
     "data": {
      "text/plain": [
       "array([[-0.65450815,  1.30157726, -1.56292586],\n",
       "       [ 0.31314609, -0.10412192,  1.00767228],\n",
       "       [-0.61307813, -0.91179701,  0.24276603]])"
      ]
     },
     "execution_count": 112,
     "metadata": {},
     "output_type": "execute_result"
    }
   ],
   "source": [
    "a = np.random.normal(size=(3,3))\n",
    "a"
   ]
  },
  {
   "cell_type": "code",
   "execution_count": 115,
   "id": "25b21b10",
   "metadata": {},
   "outputs": [
    {
     "name": "stdout",
     "output_type": "stream",
     "text": [
      "[[ 36  42  48]\n",
      " [ 81  96 111]\n",
      " [126 150 174]]\n"
     ]
    }
   ],
   "source": [
    "a = np.array([[1,2,3],\n",
    "              [4,5,6],\n",
    "              [7,8,9]])\n",
    "\n",
    "b = np.array([[2,3,4],\n",
    "              [5,6,7],\n",
    "              [8,9,10]])\n",
    "\n",
    "o = np.matmul(a,b)\n",
    "\n",
    "print(o)"
   ]
  },
  {
   "cell_type": "code",
   "execution_count": 118,
   "id": "eedc5b1b",
   "metadata": {},
   "outputs": [
    {
     "data": {
      "text/plain": [
       "array([[1, 4, 7],\n",
       "       [2, 5, 8],\n",
       "       [3, 6, 9]])"
      ]
     },
     "execution_count": 118,
     "metadata": {},
     "output_type": "execute_result"
    }
   ],
   "source": [
    "c = a.T\n",
    "c"
   ]
  },
  {
   "cell_type": "code",
   "execution_count": 121,
   "id": "86fa643b",
   "metadata": {},
   "outputs": [
    {
     "name": "stdout",
     "output_type": "stream",
     "text": [
      "[3.14 1.57 6.28]\n",
      "[-9.99998732e-01  7.96326711e-04  9.99994927e-01]\n",
      "Sine of the given array of angles =  [ 0.00159265  0.99999968 -0.0031853 ]\n"
     ]
    }
   ],
   "source": [
    "angles = np.array([3.14, 3.14/2, 6.28])\n",
    "print(angles)\n",
    "sine_of_angles = np.sin(angles)\n",
    "cos_of_angles = np.cos(angles)\n",
    "print(cos_of_angles)\n",
    "print('Sine of the given array of angles = ', sine_of_angles)"
   ]
  },
  {
   "cell_type": "code",
   "execution_count": 123,
   "id": "146d12b1",
   "metadata": {},
   "outputs": [
    {
     "name": "stdout",
     "output_type": "stream",
     "text": [
      "[10  1  5  2]\n",
      "[1 3 2 0]\n"
     ]
    }
   ],
   "source": [
    "array = np.array([10,1,5,2])\n",
    "print(array)\n",
    "indexes = np.argsort(array)\n",
    "\n",
    "print(indexes)"
   ]
  },
  {
   "cell_type": "code",
   "execution_count": null,
   "id": "a40fb014",
   "metadata": {},
   "outputs": [],
   "source": []
  }
 ],
 "metadata": {
  "kernelspec": {
   "display_name": "Python 3 (ipykernel)",
   "language": "python",
   "name": "python3"
  },
  "language_info": {
   "codemirror_mode": {
    "name": "ipython",
    "version": 3
   },
   "file_extension": ".py",
   "mimetype": "text/x-python",
   "name": "python",
   "nbconvert_exporter": "python",
   "pygments_lexer": "ipython3",
   "version": "3.9.12"
  }
 },
 "nbformat": 4,
 "nbformat_minor": 5
}
